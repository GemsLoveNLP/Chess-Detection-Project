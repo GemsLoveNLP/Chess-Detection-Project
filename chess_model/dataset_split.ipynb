{
 "cells": [
  {
   "cell_type": "code",
   "execution_count": 1,
   "metadata": {},
   "outputs": [
    {
     "name": "stdout",
     "output_type": "stream",
     "text": [
      "Collecting yolosplitter\n",
      "  Downloading yolosplitter-0.5.0.0-py3-none-any.whl.metadata (3.9 kB)\n",
      "Requirement already satisfied: pandas in c:\\users\\ting-yi\\miniconda3\\envs\\digi_image\\lib\\site-packages (from yolosplitter) (2.2.3)\n",
      "Requirement already satisfied: tqdm in c:\\users\\ting-yi\\miniconda3\\envs\\digi_image\\lib\\site-packages (from yolosplitter) (4.67.1)\n",
      "Requirement already satisfied: PyYAML in c:\\users\\ting-yi\\miniconda3\\envs\\digi_image\\lib\\site-packages (from yolosplitter) (6.0.2)\n",
      "Requirement already satisfied: numpy>=1.22.4 in c:\\users\\ting-yi\\miniconda3\\envs\\digi_image\\lib\\site-packages (from pandas->yolosplitter) (1.26.4)\n",
      "Requirement already satisfied: python-dateutil>=2.8.2 in c:\\users\\ting-yi\\miniconda3\\envs\\digi_image\\lib\\site-packages (from pandas->yolosplitter) (2.9.0.post0)\n",
      "Requirement already satisfied: pytz>=2020.1 in c:\\users\\ting-yi\\miniconda3\\envs\\digi_image\\lib\\site-packages (from pandas->yolosplitter) (2022.7.1)\n",
      "Requirement already satisfied: tzdata>=2022.7 in c:\\users\\ting-yi\\miniconda3\\envs\\digi_image\\lib\\site-packages (from pandas->yolosplitter) (2024.2)\n",
      "Requirement already satisfied: colorama in c:\\users\\ting-yi\\miniconda3\\envs\\digi_image\\lib\\site-packages (from tqdm->yolosplitter) (0.4.6)\n",
      "Requirement already satisfied: six>=1.5 in c:\\users\\ting-yi\\miniconda3\\envs\\digi_image\\lib\\site-packages (from python-dateutil>=2.8.2->pandas->yolosplitter) (1.16.0)\n",
      "Downloading yolosplitter-0.5.0.0-py3-none-any.whl (5.2 kB)\n",
      "Installing collected packages: yolosplitter\n",
      "Successfully installed yolosplitter-0.5.0.0\n"
     ]
    }
   ],
   "source": [
    "!pip install yolosplitter"
   ]
  },
  {
   "cell_type": "code",
   "execution_count": 2,
   "metadata": {},
   "outputs": [],
   "source": [
    "from yolosplitter import YoloSplitter"
   ]
  },
  {
   "cell_type": "code",
   "execution_count": 3,
   "metadata": {},
   "outputs": [],
   "source": [
    "ys = YoloSplitter(imgFormat=['.png'], labelFormat=['.txt'] )"
   ]
  },
  {
   "cell_type": "code",
   "execution_count": 14,
   "metadata": {},
   "outputs": [],
   "source": [
    "df = ys.from_mixed_dir(input_dir=\"E:/Test/\",ratio=(0.8,0.2,0))"
   ]
  },
  {
   "cell_type": "code",
   "execution_count": 15,
   "metadata": {},
   "outputs": [
    {
     "data": {
      "text/plain": [
       "{'train': 391,\n",
       " 'val': 98,\n",
       " 'test': 0,\n",
       " 'cls_names': {0, 1, 2, 3, 4, 5, 6, 7, 8, 9, 10, 11},\n",
       " 'errors': 0}"
      ]
     },
     "execution_count": 15,
     "metadata": {},
     "output_type": "execute_result"
    }
   ],
   "source": [
    "ys.info()"
   ]
  },
  {
   "cell_type": "code",
   "execution_count": 16,
   "metadata": {},
   "outputs": [
    {
     "data": {
      "text/html": [
       "<div>\n",
       "<style scoped>\n",
       "    .dataframe tbody tr th:only-of-type {\n",
       "        vertical-align: middle;\n",
       "    }\n",
       "\n",
       "    .dataframe tbody tr th {\n",
       "        vertical-align: top;\n",
       "    }\n",
       "\n",
       "    .dataframe thead th {\n",
       "        text-align: right;\n",
       "    }\n",
       "</style>\n",
       "<table border=\"1\" class=\"dataframe\">\n",
       "  <thead>\n",
       "    <tr style=\"text-align: right;\">\n",
       "      <th></th>\n",
       "      <th>images</th>\n",
       "      <th>labels</th>\n",
       "      <th>annots</th>\n",
       "      <th>cls_names</th>\n",
       "      <th>set</th>\n",
       "      <th>new_set</th>\n",
       "    </tr>\n",
       "  </thead>\n",
       "  <tbody>\n",
       "    <tr>\n",
       "      <th>0</th>\n",
       "      <td>BlackBishop_2302.png</td>\n",
       "      <td>BlackBishop_2302.txt</td>\n",
       "      <td>[[3, [0.53836, 0.573041, 0.068122, 0.064236]]]</td>\n",
       "      <td>[3]</td>\n",
       "      <td></td>\n",
       "      <td>val</td>\n",
       "    </tr>\n",
       "    <tr>\n",
       "      <th>1</th>\n",
       "      <td>BlackBishop_2303.png</td>\n",
       "      <td>BlackBishop_2303.txt</td>\n",
       "      <td>[[3, [0.394676, 0.576265, 0.105489, 0.062748]]]</td>\n",
       "      <td>[3]</td>\n",
       "      <td></td>\n",
       "      <td>train</td>\n",
       "    </tr>\n",
       "    <tr>\n",
       "      <th>2</th>\n",
       "      <td>BlackBishop_2304.png</td>\n",
       "      <td>BlackBishop_2304.txt</td>\n",
       "      <td>[[3, [0.541501, 0.489087, 0.059854, 0.075893]]]</td>\n",
       "      <td>[3]</td>\n",
       "      <td></td>\n",
       "      <td>train</td>\n",
       "    </tr>\n",
       "    <tr>\n",
       "      <th>3</th>\n",
       "      <td>BlackBishop_2305.png</td>\n",
       "      <td>BlackBishop_2305.txt</td>\n",
       "      <td>[[3, [0.606978, 0.56994, 0.087632, 0.045635]]]</td>\n",
       "      <td>[3]</td>\n",
       "      <td></td>\n",
       "      <td>train</td>\n",
       "    </tr>\n",
       "    <tr>\n",
       "      <th>4</th>\n",
       "      <td>BlackBishop_2306.png</td>\n",
       "      <td>BlackBishop_2306.txt</td>\n",
       "      <td>[[3, [0.656746, 0.530506, 0.108466, 0.042659]]]</td>\n",
       "      <td>[3]</td>\n",
       "      <td></td>\n",
       "      <td>train</td>\n",
       "    </tr>\n",
       "    <tr>\n",
       "      <th>...</th>\n",
       "      <td>...</td>\n",
       "      <td>...</td>\n",
       "      <td>...</td>\n",
       "      <td>...</td>\n",
       "      <td>...</td>\n",
       "      <td>...</td>\n",
       "    </tr>\n",
       "    <tr>\n",
       "      <th>484</th>\n",
       "      <td>WhiteRook_2296.png</td>\n",
       "      <td>WhiteRook_2296.txt</td>\n",
       "      <td>[[8, [0.74289, 0.383185, 0.070437, 0.056548]],...</td>\n",
       "      <td>[8]</td>\n",
       "      <td></td>\n",
       "      <td>train</td>\n",
       "    </tr>\n",
       "    <tr>\n",
       "      <th>485</th>\n",
       "      <td>WhiteRook_2297.png</td>\n",
       "      <td>WhiteRook_2297.txt</td>\n",
       "      <td>[[8, [0.715443, 0.408854, 0.069114, 0.059772]]...</td>\n",
       "      <td>[8]</td>\n",
       "      <td></td>\n",
       "      <td>val</td>\n",
       "    </tr>\n",
       "    <tr>\n",
       "      <th>486</th>\n",
       "      <td>WhiteRook_2298.png</td>\n",
       "      <td>WhiteRook_2298.txt</td>\n",
       "      <td>[[8, [0.718585, 0.477803, 0.062831, 0.045883]]...</td>\n",
       "      <td>[8]</td>\n",
       "      <td></td>\n",
       "      <td>val</td>\n",
       "    </tr>\n",
       "    <tr>\n",
       "      <th>487</th>\n",
       "      <td>WhiteRook_2299.png</td>\n",
       "      <td>WhiteRook_2299.txt</td>\n",
       "      <td>[[8, [0.741402, 0.504216, 0.075397, 0.042659]]...</td>\n",
       "      <td>[8]</td>\n",
       "      <td></td>\n",
       "      <td>train</td>\n",
       "    </tr>\n",
       "    <tr>\n",
       "      <th>488</th>\n",
       "      <td>WhiteRook_2300.png</td>\n",
       "      <td>WhiteRook_2300.txt</td>\n",
       "      <td>[[8, [0.766038, 0.413442, 0.08168, 0.05506]], ...</td>\n",
       "      <td>[8]</td>\n",
       "      <td></td>\n",
       "      <td>train</td>\n",
       "    </tr>\n",
       "  </tbody>\n",
       "</table>\n",
       "<p>489 rows × 6 columns</p>\n",
       "</div>"
      ],
      "text/plain": [
       "                   images                labels  \\\n",
       "0    BlackBishop_2302.png  BlackBishop_2302.txt   \n",
       "1    BlackBishop_2303.png  BlackBishop_2303.txt   \n",
       "2    BlackBishop_2304.png  BlackBishop_2304.txt   \n",
       "3    BlackBishop_2305.png  BlackBishop_2305.txt   \n",
       "4    BlackBishop_2306.png  BlackBishop_2306.txt   \n",
       "..                    ...                   ...   \n",
       "484    WhiteRook_2296.png    WhiteRook_2296.txt   \n",
       "485    WhiteRook_2297.png    WhiteRook_2297.txt   \n",
       "486    WhiteRook_2298.png    WhiteRook_2298.txt   \n",
       "487    WhiteRook_2299.png    WhiteRook_2299.txt   \n",
       "488    WhiteRook_2300.png    WhiteRook_2300.txt   \n",
       "\n",
       "                                                annots cls_names set new_set  \n",
       "0       [[3, [0.53836, 0.573041, 0.068122, 0.064236]]]       [3]         val  \n",
       "1      [[3, [0.394676, 0.576265, 0.105489, 0.062748]]]       [3]       train  \n",
       "2      [[3, [0.541501, 0.489087, 0.059854, 0.075893]]]       [3]       train  \n",
       "3       [[3, [0.606978, 0.56994, 0.087632, 0.045635]]]       [3]       train  \n",
       "4      [[3, [0.656746, 0.530506, 0.108466, 0.042659]]]       [3]       train  \n",
       "..                                                 ...       ...  ..     ...  \n",
       "484  [[8, [0.74289, 0.383185, 0.070437, 0.056548]],...       [8]       train  \n",
       "485  [[8, [0.715443, 0.408854, 0.069114, 0.059772]]...       [8]         val  \n",
       "486  [[8, [0.718585, 0.477803, 0.062831, 0.045883]]...       [8]         val  \n",
       "487  [[8, [0.741402, 0.504216, 0.075397, 0.042659]]...       [8]       train  \n",
       "488  [[8, [0.766038, 0.413442, 0.08168, 0.05506]], ...       [8]       train  \n",
       "\n",
       "[489 rows x 6 columns]"
      ]
     },
     "execution_count": 16,
     "metadata": {},
     "output_type": "execute_result"
    }
   ],
   "source": [
    "ys.get_dataframe()"
   ]
  },
  {
   "cell_type": "code",
   "execution_count": 17,
   "metadata": {},
   "outputs": [
    {
     "name": "stderr",
     "output_type": "stream",
     "text": [
      "100%|██████████| 489/489 [01:40<00:00,  4.87it/s]\n"
     ]
    }
   ],
   "source": [
    "ys.save_split(output_dir=\"E:/split_data/\")"
   ]
  },
  {
   "cell_type": "code",
   "execution_count": 18,
   "metadata": {},
   "outputs": [
    {
     "data": {
      "text/plain": [
       "[]"
      ]
     },
     "execution_count": 18,
     "metadata": {},
     "output_type": "execute_result"
    }
   ],
   "source": [
    "ys.show_errors()"
   ]
  },
  {
   "cell_type": "code",
   "execution_count": 19,
   "metadata": {},
   "outputs": [
    {
     "data": {
      "text/html": [
       "<div>\n",
       "<style scoped>\n",
       "    .dataframe tbody tr th:only-of-type {\n",
       "        vertical-align: middle;\n",
       "    }\n",
       "\n",
       "    .dataframe tbody tr th {\n",
       "        vertical-align: top;\n",
       "    }\n",
       "\n",
       "    .dataframe thead th {\n",
       "        text-align: right;\n",
       "    }\n",
       "</style>\n",
       "<table border=\"1\" class=\"dataframe\">\n",
       "  <thead>\n",
       "    <tr style=\"text-align: right;\">\n",
       "      <th></th>\n",
       "      <th>images</th>\n",
       "      <th>labels</th>\n",
       "      <th>annots</th>\n",
       "      <th>cls_names</th>\n",
       "      <th>set</th>\n",
       "      <th>new_set</th>\n",
       "    </tr>\n",
       "  </thead>\n",
       "  <tbody>\n",
       "    <tr>\n",
       "      <th>0</th>\n",
       "      <td>BlackBishop_2302.png</td>\n",
       "      <td>BlackBishop_2302.txt</td>\n",
       "      <td>[[3, [0.53836, 0.573041, 0.068122, 0.064236]]]</td>\n",
       "      <td>[3]</td>\n",
       "      <td></td>\n",
       "      <td>val</td>\n",
       "    </tr>\n",
       "    <tr>\n",
       "      <th>1</th>\n",
       "      <td>BlackBishop_2303.png</td>\n",
       "      <td>BlackBishop_2303.txt</td>\n",
       "      <td>[[3, [0.394676, 0.576265, 0.105489, 0.062748]]]</td>\n",
       "      <td>[3]</td>\n",
       "      <td></td>\n",
       "      <td>train</td>\n",
       "    </tr>\n",
       "    <tr>\n",
       "      <th>2</th>\n",
       "      <td>BlackBishop_2304.png</td>\n",
       "      <td>BlackBishop_2304.txt</td>\n",
       "      <td>[[3, [0.541501, 0.489087, 0.059854, 0.075893]]]</td>\n",
       "      <td>[3]</td>\n",
       "      <td></td>\n",
       "      <td>train</td>\n",
       "    </tr>\n",
       "    <tr>\n",
       "      <th>3</th>\n",
       "      <td>BlackBishop_2305.png</td>\n",
       "      <td>BlackBishop_2305.txt</td>\n",
       "      <td>[[3, [0.606978, 0.56994, 0.087632, 0.045635]]]</td>\n",
       "      <td>[3]</td>\n",
       "      <td></td>\n",
       "      <td>train</td>\n",
       "    </tr>\n",
       "    <tr>\n",
       "      <th>4</th>\n",
       "      <td>BlackBishop_2306.png</td>\n",
       "      <td>BlackBishop_2306.txt</td>\n",
       "      <td>[[3, [0.656746, 0.530506, 0.108466, 0.042659]]]</td>\n",
       "      <td>[3]</td>\n",
       "      <td></td>\n",
       "      <td>train</td>\n",
       "    </tr>\n",
       "    <tr>\n",
       "      <th>...</th>\n",
       "      <td>...</td>\n",
       "      <td>...</td>\n",
       "      <td>...</td>\n",
       "      <td>...</td>\n",
       "      <td>...</td>\n",
       "      <td>...</td>\n",
       "    </tr>\n",
       "    <tr>\n",
       "      <th>484</th>\n",
       "      <td>WhiteRook_2296.png</td>\n",
       "      <td>WhiteRook_2296.txt</td>\n",
       "      <td>[[8, [0.74289, 0.383185, 0.070437, 0.056548]],...</td>\n",
       "      <td>[8]</td>\n",
       "      <td></td>\n",
       "      <td>train</td>\n",
       "    </tr>\n",
       "    <tr>\n",
       "      <th>485</th>\n",
       "      <td>WhiteRook_2297.png</td>\n",
       "      <td>WhiteRook_2297.txt</td>\n",
       "      <td>[[8, [0.715443, 0.408854, 0.069114, 0.059772]]...</td>\n",
       "      <td>[8]</td>\n",
       "      <td></td>\n",
       "      <td>val</td>\n",
       "    </tr>\n",
       "    <tr>\n",
       "      <th>486</th>\n",
       "      <td>WhiteRook_2298.png</td>\n",
       "      <td>WhiteRook_2298.txt</td>\n",
       "      <td>[[8, [0.718585, 0.477803, 0.062831, 0.045883]]...</td>\n",
       "      <td>[8]</td>\n",
       "      <td></td>\n",
       "      <td>val</td>\n",
       "    </tr>\n",
       "    <tr>\n",
       "      <th>487</th>\n",
       "      <td>WhiteRook_2299.png</td>\n",
       "      <td>WhiteRook_2299.txt</td>\n",
       "      <td>[[8, [0.741402, 0.504216, 0.075397, 0.042659]]...</td>\n",
       "      <td>[8]</td>\n",
       "      <td></td>\n",
       "      <td>train</td>\n",
       "    </tr>\n",
       "    <tr>\n",
       "      <th>488</th>\n",
       "      <td>WhiteRook_2300.png</td>\n",
       "      <td>WhiteRook_2300.txt</td>\n",
       "      <td>[[8, [0.766038, 0.413442, 0.08168, 0.05506]], ...</td>\n",
       "      <td>[8]</td>\n",
       "      <td></td>\n",
       "      <td>train</td>\n",
       "    </tr>\n",
       "  </tbody>\n",
       "</table>\n",
       "<p>489 rows × 6 columns</p>\n",
       "</div>"
      ],
      "text/plain": [
       "                   images                labels  \\\n",
       "0    BlackBishop_2302.png  BlackBishop_2302.txt   \n",
       "1    BlackBishop_2303.png  BlackBishop_2303.txt   \n",
       "2    BlackBishop_2304.png  BlackBishop_2304.txt   \n",
       "3    BlackBishop_2305.png  BlackBishop_2305.txt   \n",
       "4    BlackBishop_2306.png  BlackBishop_2306.txt   \n",
       "..                    ...                   ...   \n",
       "484    WhiteRook_2296.png    WhiteRook_2296.txt   \n",
       "485    WhiteRook_2297.png    WhiteRook_2297.txt   \n",
       "486    WhiteRook_2298.png    WhiteRook_2298.txt   \n",
       "487    WhiteRook_2299.png    WhiteRook_2299.txt   \n",
       "488    WhiteRook_2300.png    WhiteRook_2300.txt   \n",
       "\n",
       "                                                annots cls_names set new_set  \n",
       "0       [[3, [0.53836, 0.573041, 0.068122, 0.064236]]]       [3]         val  \n",
       "1      [[3, [0.394676, 0.576265, 0.105489, 0.062748]]]       [3]       train  \n",
       "2      [[3, [0.541501, 0.489087, 0.059854, 0.075893]]]       [3]       train  \n",
       "3       [[3, [0.606978, 0.56994, 0.087632, 0.045635]]]       [3]       train  \n",
       "4      [[3, [0.656746, 0.530506, 0.108466, 0.042659]]]       [3]       train  \n",
       "..                                                 ...       ...  ..     ...  \n",
       "484  [[8, [0.74289, 0.383185, 0.070437, 0.056548]],...       [8]       train  \n",
       "485  [[8, [0.715443, 0.408854, 0.069114, 0.059772]]...       [8]         val  \n",
       "486  [[8, [0.718585, 0.477803, 0.062831, 0.045883]]...       [8]         val  \n",
       "487  [[8, [0.741402, 0.504216, 0.075397, 0.042659]]...       [8]       train  \n",
       "488  [[8, [0.766038, 0.413442, 0.08168, 0.05506]], ...       [8]       train  \n",
       "\n",
       "[489 rows x 6 columns]"
      ]
     },
     "execution_count": 19,
     "metadata": {},
     "output_type": "execute_result"
    }
   ],
   "source": [
    "ys.get_dataframe()"
   ]
  },
  {
   "cell_type": "code",
   "execution_count": 20,
   "metadata": {},
   "outputs": [
    {
     "data": {
      "text/plain": [
       "{'train': 391,\n",
       " 'val': 98,\n",
       " 'test': 0,\n",
       " 'cls_names': {0, 1, 2, 3, 4, 5, 6, 7, 8, 9, 10, 11},\n",
       " 'errors': 0}"
      ]
     },
     "execution_count": 20,
     "metadata": {},
     "output_type": "execute_result"
    }
   ],
   "source": [
    "ys.info()"
   ]
  },
  {
   "cell_type": "code",
   "execution_count": null,
   "metadata": {},
   "outputs": [],
   "source": []
  }
 ],
 "metadata": {
  "kernelspec": {
   "display_name": "digi_image",
   "language": "python",
   "name": "python3"
  },
  "language_info": {
   "codemirror_mode": {
    "name": "ipython",
    "version": 3
   },
   "file_extension": ".py",
   "mimetype": "text/x-python",
   "name": "python",
   "nbconvert_exporter": "python",
   "pygments_lexer": "ipython3",
   "version": "3.10.15"
  }
 },
 "nbformat": 4,
 "nbformat_minor": 2
}
